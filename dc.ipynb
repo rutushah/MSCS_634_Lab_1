{
 "cells": [
  {
   "cell_type": "code",
   "execution_count": 9,
   "metadata": {},
   "outputs": [
    {
     "name": "stdout",
     "output_type": "stream",
     "text": [
      "Requirement already satisfied: pandas in /Library/Frameworks/Python.framework/Versions/3.13/lib/python3.13/site-packages (2.2.3)\n",
      "Requirement already satisfied: numpy>=1.26.0 in /Library/Frameworks/Python.framework/Versions/3.13/lib/python3.13/site-packages (from pandas) (2.2.5)\n",
      "Requirement already satisfied: python-dateutil>=2.8.2 in /Library/Frameworks/Python.framework/Versions/3.13/lib/python3.13/site-packages (from pandas) (2.9.0.post0)\n",
      "Requirement already satisfied: pytz>=2020.1 in /Library/Frameworks/Python.framework/Versions/3.13/lib/python3.13/site-packages (from pandas) (2025.2)\n",
      "Requirement already satisfied: tzdata>=2022.7 in /Library/Frameworks/Python.framework/Versions/3.13/lib/python3.13/site-packages (from pandas) (2025.2)\n",
      "Requirement already satisfied: six>=1.5 in /Library/Frameworks/Python.framework/Versions/3.13/lib/python3.13/site-packages (from python-dateutil>=2.8.2->pandas) (1.17.0)\n",
      "Note: you may need to restart the kernel to use updated packages.\n"
     ]
    }
   ],
   "source": [
    "pip install pandas\n"
   ]
  },
  {
   "cell_type": "code",
   "execution_count": 71,
   "metadata": {},
   "outputs": [],
   "source": [
    "import pandas as pd\n",
    "df = pd.read_csv('Walmart_sales.csv')\n"
   ]
  },
  {
   "cell_type": "code",
   "execution_count": 72,
   "metadata": {},
   "outputs": [
    {
     "data": {
      "text/html": [
       "<div>\n",
       "<style scoped>\n",
       "    .dataframe tbody tr th:only-of-type {\n",
       "        vertical-align: middle;\n",
       "    }\n",
       "\n",
       "    .dataframe tbody tr th {\n",
       "        vertical-align: top;\n",
       "    }\n",
       "\n",
       "    .dataframe thead th {\n",
       "        text-align: right;\n",
       "    }\n",
       "</style>\n",
       "<table border=\"1\" class=\"dataframe\">\n",
       "  <thead>\n",
       "    <tr style=\"text-align: right;\">\n",
       "      <th></th>\n",
       "      <th>Store</th>\n",
       "      <th>Date</th>\n",
       "      <th>Weekly_Sales</th>\n",
       "      <th>Holiday_Flag</th>\n",
       "      <th>Temperature</th>\n",
       "      <th>Fuel_Price</th>\n",
       "      <th>CPI</th>\n",
       "      <th>Unemployment</th>\n",
       "    </tr>\n",
       "  </thead>\n",
       "  <tbody>\n",
       "    <tr>\n",
       "      <th>0</th>\n",
       "      <td>1.0</td>\n",
       "      <td>05-02-2010</td>\n",
       "      <td>1643690.90</td>\n",
       "      <td>0</td>\n",
       "      <td>42.31</td>\n",
       "      <td>2.572</td>\n",
       "      <td>211.096358</td>\n",
       "      <td>8.106</td>\n",
       "    </tr>\n",
       "    <tr>\n",
       "      <th>1</th>\n",
       "      <td>1.0</td>\n",
       "      <td>12-02-2010</td>\n",
       "      <td>1641957.44</td>\n",
       "      <td>1</td>\n",
       "      <td>38.51</td>\n",
       "      <td>2.548</td>\n",
       "      <td>211.242170</td>\n",
       "      <td>8.106</td>\n",
       "    </tr>\n",
       "    <tr>\n",
       "      <th>2</th>\n",
       "      <td>1.0</td>\n",
       "      <td>19-02-2010</td>\n",
       "      <td>1611968.17</td>\n",
       "      <td>0</td>\n",
       "      <td>39.93</td>\n",
       "      <td>2.514</td>\n",
       "      <td>211.289143</td>\n",
       "      <td>8.106</td>\n",
       "    </tr>\n",
       "    <tr>\n",
       "      <th>3</th>\n",
       "      <td>1.0</td>\n",
       "      <td>26-02-2010</td>\n",
       "      <td>1409727.59</td>\n",
       "      <td>0</td>\n",
       "      <td>46.63</td>\n",
       "      <td>2.561</td>\n",
       "      <td>211.319643</td>\n",
       "      <td>8.106</td>\n",
       "    </tr>\n",
       "    <tr>\n",
       "      <th>4</th>\n",
       "      <td>1.0</td>\n",
       "      <td>05-03-2010</td>\n",
       "      <td>1554806.68</td>\n",
       "      <td>0</td>\n",
       "      <td>46.50</td>\n",
       "      <td>2.625</td>\n",
       "      <td>211.350143</td>\n",
       "      <td>8.106</td>\n",
       "    </tr>\n",
       "  </tbody>\n",
       "</table>\n",
       "</div>"
      ],
      "text/plain": [
       "   Store        Date  Weekly_Sales  Holiday_Flag  Temperature  Fuel_Price  \\\n",
       "0    1.0  05-02-2010    1643690.90             0        42.31       2.572   \n",
       "1    1.0  12-02-2010    1641957.44             1        38.51       2.548   \n",
       "2    1.0  19-02-2010    1611968.17             0        39.93       2.514   \n",
       "3    1.0  26-02-2010    1409727.59             0        46.63       2.561   \n",
       "4    1.0  05-03-2010    1554806.68             0        46.50       2.625   \n",
       "\n",
       "          CPI  Unemployment  \n",
       "0  211.096358         8.106  \n",
       "1  211.242170         8.106  \n",
       "2  211.289143         8.106  \n",
       "3  211.319643         8.106  \n",
       "4  211.350143         8.106  "
      ]
     },
     "execution_count": 72,
     "metadata": {},
     "output_type": "execute_result"
    }
   ],
   "source": [
    "df.head()"
   ]
  },
  {
   "cell_type": "code",
   "execution_count": 12,
   "metadata": {},
   "outputs": [
    {
     "data": {
      "text/html": [
       "<div>\n",
       "<style scoped>\n",
       "    .dataframe tbody tr th:only-of-type {\n",
       "        vertical-align: middle;\n",
       "    }\n",
       "\n",
       "    .dataframe tbody tr th {\n",
       "        vertical-align: top;\n",
       "    }\n",
       "\n",
       "    .dataframe thead th {\n",
       "        text-align: right;\n",
       "    }\n",
       "</style>\n",
       "<table border=\"1\" class=\"dataframe\">\n",
       "  <thead>\n",
       "    <tr style=\"text-align: right;\">\n",
       "      <th></th>\n",
       "      <th>Store</th>\n",
       "      <th>Weekly_Sales</th>\n",
       "      <th>Holiday_Flag</th>\n",
       "      <th>Temperature</th>\n",
       "      <th>Fuel_Price</th>\n",
       "      <th>CPI</th>\n",
       "      <th>Unemployment</th>\n",
       "    </tr>\n",
       "  </thead>\n",
       "  <tbody>\n",
       "    <tr>\n",
       "      <th>count</th>\n",
       "      <td>6435.000000</td>\n",
       "      <td>6.435000e+03</td>\n",
       "      <td>6435.000000</td>\n",
       "      <td>6435.000000</td>\n",
       "      <td>6435.000000</td>\n",
       "      <td>6435.000000</td>\n",
       "      <td>6435.000000</td>\n",
       "    </tr>\n",
       "    <tr>\n",
       "      <th>mean</th>\n",
       "      <td>23.000000</td>\n",
       "      <td>1.046965e+06</td>\n",
       "      <td>0.069930</td>\n",
       "      <td>60.663782</td>\n",
       "      <td>3.358607</td>\n",
       "      <td>171.578394</td>\n",
       "      <td>7.999151</td>\n",
       "    </tr>\n",
       "    <tr>\n",
       "      <th>std</th>\n",
       "      <td>12.988182</td>\n",
       "      <td>5.643666e+05</td>\n",
       "      <td>0.255049</td>\n",
       "      <td>18.444933</td>\n",
       "      <td>0.459020</td>\n",
       "      <td>39.356712</td>\n",
       "      <td>1.875885</td>\n",
       "    </tr>\n",
       "    <tr>\n",
       "      <th>min</th>\n",
       "      <td>1.000000</td>\n",
       "      <td>2.099862e+05</td>\n",
       "      <td>0.000000</td>\n",
       "      <td>-2.060000</td>\n",
       "      <td>2.472000</td>\n",
       "      <td>126.064000</td>\n",
       "      <td>3.879000</td>\n",
       "    </tr>\n",
       "    <tr>\n",
       "      <th>25%</th>\n",
       "      <td>12.000000</td>\n",
       "      <td>5.533501e+05</td>\n",
       "      <td>0.000000</td>\n",
       "      <td>47.460000</td>\n",
       "      <td>2.933000</td>\n",
       "      <td>131.735000</td>\n",
       "      <td>6.891000</td>\n",
       "    </tr>\n",
       "    <tr>\n",
       "      <th>50%</th>\n",
       "      <td>23.000000</td>\n",
       "      <td>9.607460e+05</td>\n",
       "      <td>0.000000</td>\n",
       "      <td>62.670000</td>\n",
       "      <td>3.445000</td>\n",
       "      <td>182.616521</td>\n",
       "      <td>7.874000</td>\n",
       "    </tr>\n",
       "    <tr>\n",
       "      <th>75%</th>\n",
       "      <td>34.000000</td>\n",
       "      <td>1.420159e+06</td>\n",
       "      <td>0.000000</td>\n",
       "      <td>74.940000</td>\n",
       "      <td>3.735000</td>\n",
       "      <td>212.743293</td>\n",
       "      <td>8.622000</td>\n",
       "    </tr>\n",
       "    <tr>\n",
       "      <th>max</th>\n",
       "      <td>45.000000</td>\n",
       "      <td>3.818686e+06</td>\n",
       "      <td>1.000000</td>\n",
       "      <td>100.140000</td>\n",
       "      <td>4.468000</td>\n",
       "      <td>227.232807</td>\n",
       "      <td>14.313000</td>\n",
       "    </tr>\n",
       "  </tbody>\n",
       "</table>\n",
       "</div>"
      ],
      "text/plain": [
       "             Store  Weekly_Sales  Holiday_Flag  Temperature   Fuel_Price  \\\n",
       "count  6435.000000  6.435000e+03   6435.000000  6435.000000  6435.000000   \n",
       "mean     23.000000  1.046965e+06      0.069930    60.663782     3.358607   \n",
       "std      12.988182  5.643666e+05      0.255049    18.444933     0.459020   \n",
       "min       1.000000  2.099862e+05      0.000000    -2.060000     2.472000   \n",
       "25%      12.000000  5.533501e+05      0.000000    47.460000     2.933000   \n",
       "50%      23.000000  9.607460e+05      0.000000    62.670000     3.445000   \n",
       "75%      34.000000  1.420159e+06      0.000000    74.940000     3.735000   \n",
       "max      45.000000  3.818686e+06      1.000000   100.140000     4.468000   \n",
       "\n",
       "               CPI  Unemployment  \n",
       "count  6435.000000   6435.000000  \n",
       "mean    171.578394      7.999151  \n",
       "std      39.356712      1.875885  \n",
       "min     126.064000      3.879000  \n",
       "25%     131.735000      6.891000  \n",
       "50%     182.616521      7.874000  \n",
       "75%     212.743293      8.622000  \n",
       "max     227.232807     14.313000  "
      ]
     },
     "execution_count": 12,
     "metadata": {},
     "output_type": "execute_result"
    }
   ],
   "source": [
    "df.describe()"
   ]
  },
  {
   "cell_type": "code",
   "execution_count": 13,
   "metadata": {},
   "outputs": [
    {
     "name": "stdout",
     "output_type": "stream",
     "text": [
      "Requirement already satisfied: matplotlib in /Library/Frameworks/Python.framework/Versions/3.13/lib/python3.13/site-packages (3.10.3)\n",
      "Requirement already satisfied: contourpy>=1.0.1 in /Library/Frameworks/Python.framework/Versions/3.13/lib/python3.13/site-packages (from matplotlib) (1.3.2)\n",
      "Requirement already satisfied: cycler>=0.10 in /Library/Frameworks/Python.framework/Versions/3.13/lib/python3.13/site-packages (from matplotlib) (0.12.1)\n",
      "Requirement already satisfied: fonttools>=4.22.0 in /Library/Frameworks/Python.framework/Versions/3.13/lib/python3.13/site-packages (from matplotlib) (4.58.1)\n",
      "Requirement already satisfied: kiwisolver>=1.3.1 in /Library/Frameworks/Python.framework/Versions/3.13/lib/python3.13/site-packages (from matplotlib) (1.4.8)\n",
      "Requirement already satisfied: numpy>=1.23 in /Library/Frameworks/Python.framework/Versions/3.13/lib/python3.13/site-packages (from matplotlib) (2.2.5)\n",
      "Requirement already satisfied: packaging>=20.0 in /Users/rutushah/Library/Python/3.13/lib/python/site-packages (from matplotlib) (25.0)\n",
      "Requirement already satisfied: pillow>=8 in /Library/Frameworks/Python.framework/Versions/3.13/lib/python3.13/site-packages (from matplotlib) (11.2.1)\n",
      "Requirement already satisfied: pyparsing>=2.3.1 in /Library/Frameworks/Python.framework/Versions/3.13/lib/python3.13/site-packages (from matplotlib) (3.2.3)\n",
      "Requirement already satisfied: python-dateutil>=2.7 in /Library/Frameworks/Python.framework/Versions/3.13/lib/python3.13/site-packages (from matplotlib) (2.9.0.post0)\n",
      "Requirement already satisfied: six>=1.5 in /Library/Frameworks/Python.framework/Versions/3.13/lib/python3.13/site-packages (from python-dateutil>=2.7->matplotlib) (1.17.0)\n",
      "Note: you may need to restart the kernel to use updated packages.\n"
     ]
    }
   ],
   "source": [
    "pip install matplotlib"
   ]
  },
  {
   "cell_type": "code",
   "execution_count": 17,
   "metadata": {},
   "outputs": [
    {
     "data": {
      "text/plain": [
       "<Axes: title={'center': 'Weekly Sales vs Temperature'}, xlabel='Temperature', ylabel='Weekly_Sales'>"
      ]
     },
     "execution_count": 17,
     "metadata": {},
     "output_type": "execute_result"
    },
    {
     "data": {
      "image/png": "[encoded data removed]",
      "text/plain": [
       "<Figure size 640x480 with 1 Axes>"
      ]
     },
     "metadata": {},
     "output_type": "display_data"
    }
   ],
   "source": [
    "df.plot(x = 'Temperature', y = 'Weekly_Sales', kind = 'scatter', title='Weekly Sales vs Temperature')"
   ]
  },
  {
   "cell_type": "code",
   "execution_count": 61,
   "metadata": {},
   "outputs": [
    {
     "data": {
      "text/plain": [
       "Text(0.5, 1.0, 'Weekly Sales and Unemployment over time')"
      ]
     },
     "execution_count": 61,
     "metadata": {},
     "output_type": "execute_result"
    },
    {
     "data": {
      "image/png": "[encoded data removed]",
      "text/plain": [
       "<Figure size 640x480 with 1 Axes>"
      ]
     },
     "metadata": {},
     "output_type": "display_data"
    }
   ],
   "source": [
    "df['Date'] = pd.to_datetime(df['Date'],dayfirst=True)\n",
    "df.sort_values('Date', inplace=True)\n",
    "df.groupby('Date')['Weekly_Sales'].sum().plot(kind='line')\n",
    "df.groupby('Date')['Unemployment'].sum().plot(kind='line')\n",
    "plt.title('Weekly Sales and Unemployment over time')"
   ]
  },
  {
   "cell_type": "code",
   "execution_count": 29,
   "metadata": {},
   "outputs": [
    {
     "data": {
      "text/plain": [
       "<Axes: title={'center': 'Average Weekly Sales by Store'}, xlabel='Store'>"
      ]
     },
     "execution_count": 29,
     "metadata": {},
     "output_type": "execute_result"
    },
    {
     "data": {
      "image/png": "[encoded data removed]",
      "text/plain": [
       "<Figure size 1200x600 with 1 Axes>"
      ]
     },
     "metadata": {},
     "output_type": "display_data"
    }
   ],
   "source": [
    "df.groupby('Store')['Weekly_Sales'].mean().plot(kind='bar',figsize=(12,6), title='Average Weekly Sales by Store')"
   ]
  },
  {
   "cell_type": "code",
   "execution_count": 35,
   "metadata": {},
   "outputs": [
    {
     "data": {
      "text/plain": [
       "<Axes: title={'center': 'Distribution by Weekly Sales'}, ylabel='Frequency'>"
      ]
     },
     "execution_count": 35,
     "metadata": {},
     "output_type": "execute_result"
    },
    {
     "data": {
      "image/png": "[encoded data removed]",
      "text/plain": [
       "<Figure size 640x480 with 1 Axes>"
      ]
     },
     "metadata": {},
     "output_type": "display_data"
    }
   ],
   "source": [
    "df['Weekly_Sales'].plot(kind = 'hist',bins=20,title='Distribution by Weekly Sales')"
   ]
  },
  {
   "cell_type": "code",
   "execution_count": 50,
   "metadata": {},
   "outputs": [
    {
     "data": {
      "image/png": "[encoded data removed]",
      "text/plain": [
       "<Figure size 640x480 with 1 Axes>"
      ]
     },
     "metadata": {},
     "output_type": "display_data"
    }
   ],
   "source": [
    "import seaborn as sns\n",
    "import matplotlib.pyplot as plt\n",
    "sns.boxplot(x='Holiday_Flag', y='Weekly_Sales', data=df)\n",
    "plt.title('Weekly Sales Distribution on Holiday vs Non-Holiday Weeks')\n",
    "plt.show()\n"
   ]
  },
  {
   "cell_type": "code",
   "execution_count": 53,
   "metadata": {},
   "outputs": [
    {
     "data": {
      "text/plain": [
       "Text(0.5, 1.0, 'Holiday vs No Holiday')"
      ]
     },
     "execution_count": 53,
     "metadata": {},
     "output_type": "execute_result"
    },
    {
     "data": {
      "image/png": "[encoded data removed]",
      "text/plain": [
       "<Figure size 640x480 with 1 Axes>"
      ]
     },
     "metadata": {},
     "output_type": "display_data"
    }
   ],
   "source": [
    "plt.pie(df['Holiday_Flag'].value_counts(), labels= ['Holiday', 'No Holiday'])\n",
    "plt.legend()\n",
    "plt.title('Holiday vs No Holiday')"
   ]
  },
  {
   "cell_type": "code",
   "execution_count": 65,
   "metadata": {},
   "outputs": [
    {
     "data": {
      "text/html": [
       "<div>\n",
       "<style scoped>\n",
       "    .dataframe tbody tr th:only-of-type {\n",
       "        vertical-align: middle;\n",
       "    }\n",
       "\n",
       "    .dataframe tbody tr th {\n",
       "        vertical-align: top;\n",
       "    }\n",
       "\n",
       "    .dataframe thead th {\n",
       "        text-align: right;\n",
       "    }\n",
       "</style>\n",
       "<table border=\"1\" class=\"dataframe\">\n",
       "  <thead>\n",
       "    <tr style=\"text-align: right;\">\n",
       "      <th></th>\n",
       "      <th>Store</th>\n",
       "      <th>Date</th>\n",
       "      <th>Weekly_Sales</th>\n",
       "      <th>Holiday_Flag</th>\n",
       "      <th>Temperature</th>\n",
       "      <th>Fuel_Price</th>\n",
       "      <th>CPI</th>\n",
       "      <th>Unemployment</th>\n",
       "    </tr>\n",
       "  </thead>\n",
       "  <tbody>\n",
       "    <tr>\n",
       "      <th>0</th>\n",
       "      <td>1</td>\n",
       "      <td>2010-02-05</td>\n",
       "      <td>1643690.90</td>\n",
       "      <td>0</td>\n",
       "      <td>42.31</td>\n",
       "      <td>2.572</td>\n",
       "      <td>211.096358</td>\n",
       "      <td>8.106</td>\n",
       "    </tr>\n",
       "    <tr>\n",
       "      <th>2145</th>\n",
       "      <td>16</td>\n",
       "      <td>2010-02-05</td>\n",
       "      <td>477409.30</td>\n",
       "      <td>0</td>\n",
       "      <td>19.79</td>\n",
       "      <td>2.580</td>\n",
       "      <td>189.381697</td>\n",
       "      <td>7.039</td>\n",
       "    </tr>\n",
       "    <tr>\n",
       "      <th>1430</th>\n",
       "      <td>11</td>\n",
       "      <td>2010-02-05</td>\n",
       "      <td>1528008.64</td>\n",
       "      <td>0</td>\n",
       "      <td>46.04</td>\n",
       "      <td>2.572</td>\n",
       "      <td>214.424881</td>\n",
       "      <td>7.368</td>\n",
       "    </tr>\n",
       "    <tr>\n",
       "      <th>5005</th>\n",
       "      <td>36</td>\n",
       "      <td>2010-02-05</td>\n",
       "      <td>467546.74</td>\n",
       "      <td>0</td>\n",
       "      <td>45.97</td>\n",
       "      <td>2.545</td>\n",
       "      <td>209.852966</td>\n",
       "      <td>8.554</td>\n",
       "    </tr>\n",
       "    <tr>\n",
       "      <th>5863</th>\n",
       "      <td>42</td>\n",
       "      <td>2010-02-05</td>\n",
       "      <td>543384.01</td>\n",
       "      <td>0</td>\n",
       "      <td>54.34</td>\n",
       "      <td>2.962</td>\n",
       "      <td>126.442065</td>\n",
       "      <td>9.765</td>\n",
       "    </tr>\n",
       "    <tr>\n",
       "      <th>...</th>\n",
       "      <td>...</td>\n",
       "      <td>...</td>\n",
       "      <td>...</td>\n",
       "      <td>...</td>\n",
       "      <td>...</td>\n",
       "      <td>...</td>\n",
       "      <td>...</td>\n",
       "      <td>...</td>\n",
       "    </tr>\n",
       "    <tr>\n",
       "      <th>2573</th>\n",
       "      <td>18</td>\n",
       "      <td>2012-10-26</td>\n",
       "      <td>1127516.25</td>\n",
       "      <td>0</td>\n",
       "      <td>56.09</td>\n",
       "      <td>3.917</td>\n",
       "      <td>138.728161</td>\n",
       "      <td>8.243</td>\n",
       "    </tr>\n",
       "    <tr>\n",
       "      <th>5719</th>\n",
       "      <td>40</td>\n",
       "      <td>2012-10-26</td>\n",
       "      <td>921264.52</td>\n",
       "      <td>0</td>\n",
       "      <td>49.65</td>\n",
       "      <td>3.917</td>\n",
       "      <td>138.728161</td>\n",
       "      <td>4.145</td>\n",
       "    </tr>\n",
       "    <tr>\n",
       "      <th>3717</th>\n",
       "      <td>26</td>\n",
       "      <td>2012-10-26</td>\n",
       "      <td>958619.80</td>\n",
       "      <td>0</td>\n",
       "      <td>46.95</td>\n",
       "      <td>3.917</td>\n",
       "      <td>138.728161</td>\n",
       "      <td>7.138</td>\n",
       "    </tr>\n",
       "    <tr>\n",
       "      <th>5576</th>\n",
       "      <td>39</td>\n",
       "      <td>2012-10-26</td>\n",
       "      <td>1569502.00</td>\n",
       "      <td>0</td>\n",
       "      <td>72.90</td>\n",
       "      <td>3.506</td>\n",
       "      <td>222.113657</td>\n",
       "      <td>6.228</td>\n",
       "    </tr>\n",
       "    <tr>\n",
       "      <th>6434</th>\n",
       "      <td>45</td>\n",
       "      <td>2012-10-26</td>\n",
       "      <td>760281.43</td>\n",
       "      <td>0</td>\n",
       "      <td>58.85</td>\n",
       "      <td>3.882</td>\n",
       "      <td>192.308899</td>\n",
       "      <td>8.667</td>\n",
       "    </tr>\n",
       "  </tbody>\n",
       "</table>\n",
       "<p>6435 rows × 8 columns</p>\n",
       "</div>"
      ],
      "text/plain": [
       "      Store       Date  Weekly_Sales  Holiday_Flag  Temperature  Fuel_Price  \\\n",
       "0         1 2010-02-05    1643690.90             0        42.31       2.572   \n",
       "2145     16 2010-02-05     477409.30             0        19.79       2.580   \n",
       "1430     11 2010-02-05    1528008.64             0        46.04       2.572   \n",
       "5005     36 2010-02-05     467546.74             0        45.97       2.545   \n",
       "5863     42 2010-02-05     543384.01             0        54.34       2.962   \n",
       "...     ...        ...           ...           ...          ...         ...   \n",
       "2573     18 2012-10-26    1127516.25             0        56.09       3.917   \n",
       "5719     40 2012-10-26     921264.52             0        49.65       3.917   \n",
       "3717     26 2012-10-26     958619.80             0        46.95       3.917   \n",
       "5576     39 2012-10-26    1569502.00             0        72.90       3.506   \n",
       "6434     45 2012-10-26     760281.43             0        58.85       3.882   \n",
       "\n",
       "             CPI  Unemployment  \n",
       "0     211.096358         8.106  \n",
       "2145  189.381697         7.039  \n",
       "1430  214.424881         7.368  \n",
       "5005  209.852966         8.554  \n",
       "5863  126.442065         9.765  \n",
       "...          ...           ...  \n",
       "2573  138.728161         8.243  \n",
       "5719  138.728161         4.145  \n",
       "3717  138.728161         7.138  \n",
       "5576  222.113657         6.228  \n",
       "6434  192.308899         8.667  \n",
       "\n",
       "[6435 rows x 8 columns]"
      ]
     },
     "execution_count": 65,
     "metadata": {},
     "output_type": "execute_result"
    }
   ],
   "source": [
    "df"
   ]
  },
  {
   "cell_type": "code",
   "execution_count": 73,
   "metadata": {},
   "outputs": [
    {
     "data": {
      "text/plain": [
       "<bound method DataFrame.isnull of       Store        Date  Weekly_Sales  Holiday_Flag  Temperature  Fuel_Price  \\\n",
       "0       1.0  05-02-2010    1643690.90             0        42.31       2.572   \n",
       "1       1.0  12-02-2010    1641957.44             1        38.51       2.548   \n",
       "2       1.0  19-02-2010    1611968.17             0        39.93       2.514   \n",
       "3       1.0  26-02-2010    1409727.59             0        46.63       2.561   \n",
       "4       1.0  05-03-2010    1554806.68             0        46.50       2.625   \n",
       "...     ...         ...           ...           ...          ...         ...   \n",
       "6430   45.0  28-09-2012     713173.95             0        64.88       3.997   \n",
       "6431   45.0  05-10-2012     733455.07             0        64.89       3.985   \n",
       "6432   45.0  12-10-2012     734464.36             0        54.47       4.000   \n",
       "6433   45.0  19-10-2012     718125.53             0        56.47       3.969   \n",
       "6434   45.0  26-10-2012     760281.43             0        58.85       3.882   \n",
       "\n",
       "             CPI  Unemployment  \n",
       "0     211.096358         8.106  \n",
       "1     211.242170         8.106  \n",
       "2     211.289143         8.106  \n",
       "3     211.319643         8.106  \n",
       "4     211.350143         8.106  \n",
       "...          ...           ...  \n",
       "6430  192.013558         8.684  \n",
       "6431  192.170412         8.667  \n",
       "6432  192.327265         8.667  \n",
       "6433  192.330854         8.667  \n",
       "6434  192.308899         8.667  \n",
       "\n",
       "[6435 rows x 8 columns]>"
      ]
     },
     "execution_count": 73,
     "metadata": {},
     "output_type": "execute_result"
    }
   ],
   "source": [
    "df.isnull"
   ]
  },
  {
   "cell_type": "code",
   "execution_count": 77,
   "metadata": {},
   "outputs": [
    {
     "name": "stdout",
     "output_type": "stream",
     "text": [
      "Data set before handling the Missing Values\n",
      "      Store        Date  Weekly_Sales  Holiday_Flag  Temperature  Fuel_Price  \\\n",
      "0       1.0  05-02-2010    1643690.90             0        42.31       2.572   \n",
      "1       1.0  12-02-2010    1641957.44             1        38.51       2.548   \n",
      "2       1.0  19-02-2010    1611968.17             0        39.93       2.514   \n",
      "3       1.0  26-02-2010    1409727.59             0        46.63       2.561   \n",
      "4       1.0  05-03-2010    1554806.68             0        46.50       2.625   \n",
      "...     ...         ...           ...           ...          ...         ...   \n",
      "6430   45.0  28-09-2012     713173.95             0        64.88       3.997   \n",
      "6431   45.0  05-10-2012     733455.07             0        64.89       3.985   \n",
      "6432   45.0  12-10-2012     734464.36             0        54.47       4.000   \n",
      "6433   45.0  19-10-2012     718125.53             0        56.47       3.969   \n",
      "6434   45.0  26-10-2012     760281.43             0        58.85       3.882   \n",
      "\n",
      "             CPI  Unemployment  \n",
      "0     211.096358         8.106  \n",
      "1     211.242170         8.106  \n",
      "2     211.289143         8.106  \n",
      "3     211.319643         8.106  \n",
      "4     211.350143         8.106  \n",
      "...          ...           ...  \n",
      "6430  192.013558         8.684  \n",
      "6431  192.170412         8.667  \n",
      "6432  192.327265         8.667  \n",
      "6433  192.330854         8.667  \n",
      "6434  192.308899         8.667  \n",
      "\n",
      "[6435 rows x 8 columns]\n"
     ]
    }
   ],
   "source": [
    "data = pd.read_csv('Walmart_sales.csv')\n",
    "df = pd.DataFrame(data)\n",
    "\n",
    "print(\"Data set before handling the Missing Values\")\n",
    "print(df)"
   ]
  },
  {
   "cell_type": "code",
   "execution_count": 78,
   "metadata": {},
   "outputs": [
    {
     "name": "stdout",
     "output_type": "stream",
     "text": [
      "Store has 1 missing value(s)\n",
      "Date has 2 missing value(s)\n",
      "Weekly_Sales has 3 missing value(s)\n",
      "Holiday_Flag has 0 missing value(s)\n",
      "Temperature has 2 missing value(s)\n",
      "Fuel_Price has 1 missing value(s)\n",
      "CPI has 2 missing value(s)\n",
      "Unemployment has 1 missing value(s)\n"
     ]
    }
   ],
   "source": [
    "for c in df.columns:\n",
    "    miss = df[c].isnull().sum()\n",
    "    print(\"{} has {} missing value(s)\".format(c,miss))"
   ]
  },
  {
   "cell_type": "code",
   "execution_count": 82,
   "metadata": {},
   "outputs": [
    {
     "data": {
      "text/plain": [
       "0        1.0\n",
       "1        1.0\n",
       "2        1.0\n",
       "3        1.0\n",
       "4        1.0\n",
       "        ... \n",
       "6430    45.0\n",
       "6431    45.0\n",
       "6432    45.0\n",
       "6433    45.0\n",
       "6434    45.0\n",
       "Name: Store, Length: 6435, dtype: object"
      ]
     },
     "execution_count": 82,
     "metadata": {},
     "output_type": "execute_result"
    }
   ],
   "source": [
    "df['Store'].fillna('NA')"
   ]
  },
  {
   "cell_type": "code",
   "execution_count": 85,
   "metadata": {},
   "outputs": [],
   "source": [
    "df['Weekly_Sales'].fillna('NA')\n",
    "df2 = df.dropna()"
   ]
  },
  {
   "cell_type": "code",
   "execution_count": 86,
   "metadata": {},
   "outputs": [
    {
     "data": {
      "text/plain": [
       "(6435, 8)"
      ]
     },
     "execution_count": 86,
     "metadata": {},
     "output_type": "execute_result"
    }
   ],
   "source": [
    "df.shape"
   ]
  },
  {
   "cell_type": "code",
   "execution_count": 89,
   "metadata": {},
   "outputs": [
    {
     "data": {
      "text/plain": [
       "<Axes: >"
      ]
     },
     "execution_count": 89,
     "metadata": {},
     "output_type": "execute_result"
    },
    {
     "data": {
      "image/png": "[encoded data removed]",
      "text/plain": [
       "<Figure size 640x480 with 1 Axes>"
      ]
     },
     "metadata": {},
     "output_type": "display_data"
    }
   ],
   "source": [
    "df['Weekly_Sales'].hist()"
   ]
  },
  {
   "cell_type": "code",
   "execution_count": 92,
   "metadata": {},
   "outputs": [
    {
     "data": {
      "text/plain": [
       "{'whiskers': [<matplotlib.lines.Line2D at 0x316cf5bd0>,\n",
       "  <matplotlib.lines.Line2D at 0x316cf5d10>],\n",
       " 'caps': [<matplotlib.lines.Line2D at 0x316cf5e50>,\n",
       "  <matplotlib.lines.Line2D at 0x316cf5f90>],\n",
       " 'boxes': [<matplotlib.lines.Line2D at 0x316cf5a90>],\n",
       " 'medians': [<matplotlib.lines.Line2D at 0x316cf60d0>],\n",
       " 'fliers': [<matplotlib.lines.Line2D at 0x316cf6210>],\n",
       " 'means': []}"
      ]
     },
     "execution_count": 92,
     "metadata": {},
     "output_type": "execute_result"
    },
    {
     "data": {
      "image/png": "[encoded data removed]",
      "text/plain": [
       "<Figure size 640x480 with 1 Axes>"
      ]
     },
     "metadata": {},
     "output_type": "display_data"
    }
   ],
   "source": [
    "plt.boxplot(df['Weekly_Sales'])"
   ]
  },
  {
   "cell_type": "code",
   "execution_count": 98,
   "metadata": {},
   "outputs": [
    {
     "name": "stdout",
     "output_type": "stream",
     "text": [
      "-746743.2337499999\n"
     ]
    }
   ],
   "source": [
    "weekly_IQR = df['Weekly_Sales'].quantile(0.75) - df['Weekly_Sales'].quantile(0.25)\n",
    "weekly_low_limit = df['Weekly_Sales'].quantile(0.25) - 1.5 * weekly_IQR\n",
    "print(weekly_low_limit)"
   ]
  },
  {
   "cell_type": "code",
   "execution_count": 101,
   "metadata": {},
   "outputs": [
    {
     "name": "stdout",
     "output_type": "stream",
     "text": [
      "2719083.8162499997\n"
     ]
    }
   ],
   "source": [
    "weekly_high_limit = df['Weekly_Sales'].quantile(0.75) + 1.5 * weekly_IQR\n",
    "print(weekly_high_limit)"
   ]
  },
  {
   "cell_type": "code",
   "execution_count": 102,
   "metadata": {},
   "outputs": [
    {
     "data": {
      "text/html": [
       "<div>\n",
       "<style scoped>\n",
       "    .dataframe tbody tr th:only-of-type {\n",
       "        vertical-align: middle;\n",
       "    }\n",
       "\n",
       "    .dataframe tbody tr th {\n",
       "        vertical-align: top;\n",
       "    }\n",
       "\n",
       "    .dataframe thead th {\n",
       "        text-align: right;\n",
       "    }\n",
       "</style>\n",
       "<table border=\"1\" class=\"dataframe\">\n",
       "  <thead>\n",
       "    <tr style=\"text-align: right;\">\n",
       "      <th></th>\n",
       "      <th>Store</th>\n",
       "      <th>Date</th>\n",
       "      <th>Weekly_Sales</th>\n",
       "      <th>Holiday_Flag</th>\n",
       "      <th>Temperature</th>\n",
       "      <th>Fuel_Price</th>\n",
       "      <th>CPI</th>\n",
       "      <th>Unemployment</th>\n",
       "    </tr>\n",
       "  </thead>\n",
       "  <tbody>\n",
       "  </tbody>\n",
       "</table>\n",
       "</div>"
      ],
      "text/plain": [
       "Empty DataFrame\n",
       "Columns: [Store, Date, Weekly_Sales, Holiday_Flag, Temperature, Fuel_Price, CPI, Unemployment]\n",
       "Index: []"
      ]
     },
     "execution_count": 102,
     "metadata": {},
     "output_type": "execute_result"
    }
   ],
   "source": [
    "\n",
    "df[df['Weekly_Sales'] < weekly_low_limit]"
   ]
  },
  {
   "cell_type": "code",
   "execution_count": 103,
   "metadata": {},
   "outputs": [
    {
     "data": {
      "text/html": [
       "<div>\n",
       "<style scoped>\n",
       "    .dataframe tbody tr th:only-of-type {\n",
       "        vertical-align: middle;\n",
       "    }\n",
       "\n",
       "    .dataframe tbody tr th {\n",
       "        vertical-align: top;\n",
       "    }\n",
       "\n",
       "    .dataframe thead th {\n",
       "        text-align: right;\n",
       "    }\n",
       "</style>\n",
       "<table border=\"1\" class=\"dataframe\">\n",
       "  <thead>\n",
       "    <tr style=\"text-align: right;\">\n",
       "      <th></th>\n",
       "      <th>Store</th>\n",
       "      <th>Date</th>\n",
       "      <th>Weekly_Sales</th>\n",
       "      <th>Holiday_Flag</th>\n",
       "      <th>Temperature</th>\n",
       "      <th>Fuel_Price</th>\n",
       "      <th>CPI</th>\n",
       "      <th>Unemployment</th>\n",
       "    </tr>\n",
       "  </thead>\n",
       "  <tbody>\n",
       "    <tr>\n",
       "      <th>189</th>\n",
       "      <td>2.0</td>\n",
       "      <td>24-12-2010</td>\n",
       "      <td>3436007.68</td>\n",
       "      <td>0</td>\n",
       "      <td>49.97</td>\n",
       "      <td>2.886</td>\n",
       "      <td>211.064660</td>\n",
       "      <td>8.163</td>\n",
       "    </tr>\n",
       "    <tr>\n",
       "      <th>241</th>\n",
       "      <td>2.0</td>\n",
       "      <td>23-12-2011</td>\n",
       "      <td>3224369.80</td>\n",
       "      <td>0</td>\n",
       "      <td>46.66</td>\n",
       "      <td>3.112</td>\n",
       "      <td>218.999550</td>\n",
       "      <td>7.441</td>\n",
       "    </tr>\n",
       "    <tr>\n",
       "      <th>471</th>\n",
       "      <td>4.0</td>\n",
       "      <td>26-11-2010</td>\n",
       "      <td>2789469.45</td>\n",
       "      <td>1</td>\n",
       "      <td>48.08</td>\n",
       "      <td>2.752</td>\n",
       "      <td>126.669267</td>\n",
       "      <td>7.127</td>\n",
       "    </tr>\n",
       "    <tr>\n",
       "      <th>474</th>\n",
       "      <td>4.0</td>\n",
       "      <td>17-12-2010</td>\n",
       "      <td>2740057.14</td>\n",
       "      <td>0</td>\n",
       "      <td>46.57</td>\n",
       "      <td>2.884</td>\n",
       "      <td>126.879484</td>\n",
       "      <td>7.127</td>\n",
       "    </tr>\n",
       "    <tr>\n",
       "      <th>475</th>\n",
       "      <td>4.0</td>\n",
       "      <td>24-12-2010</td>\n",
       "      <td>3526713.39</td>\n",
       "      <td>0</td>\n",
       "      <td>43.21</td>\n",
       "      <td>2.887</td>\n",
       "      <td>126.983581</td>\n",
       "      <td>7.127</td>\n",
       "    </tr>\n",
       "    <tr>\n",
       "      <th>523</th>\n",
       "      <td>4.0</td>\n",
       "      <td>25-11-2011</td>\n",
       "      <td>3004702.33</td>\n",
       "      <td>1</td>\n",
       "      <td>47.96</td>\n",
       "      <td>3.225</td>\n",
       "      <td>129.836400</td>\n",
       "      <td>5.143</td>\n",
       "    </tr>\n",
       "    <tr>\n",
       "      <th>526</th>\n",
       "      <td>4.0</td>\n",
       "      <td>16-12-2011</td>\n",
       "      <td>2771397.17</td>\n",
       "      <td>0</td>\n",
       "      <td>36.44</td>\n",
       "      <td>3.149</td>\n",
       "      <td>129.898065</td>\n",
       "      <td>5.143</td>\n",
       "    </tr>\n",
       "    <tr>\n",
       "      <th>527</th>\n",
       "      <td>4.0</td>\n",
       "      <td>23-12-2011</td>\n",
       "      <td>3676388.98</td>\n",
       "      <td>0</td>\n",
       "      <td>35.92</td>\n",
       "      <td>3.103</td>\n",
       "      <td>129.984548</td>\n",
       "      <td>5.143</td>\n",
       "    </tr>\n",
       "    <tr>\n",
       "      <th>761</th>\n",
       "      <td>6.0</td>\n",
       "      <td>24-12-2010</td>\n",
       "      <td>2727575.18</td>\n",
       "      <td>0</td>\n",
       "      <td>55.07</td>\n",
       "      <td>2.886</td>\n",
       "      <td>212.916508</td>\n",
       "      <td>7.007</td>\n",
       "    </tr>\n",
       "    <tr>\n",
       "      <th>1329</th>\n",
       "      <td>10.0</td>\n",
       "      <td>26-11-2010</td>\n",
       "      <td>2939946.38</td>\n",
       "      <td>1</td>\n",
       "      <td>55.33</td>\n",
       "      <td>3.162</td>\n",
       "      <td>126.669267</td>\n",
       "      <td>9.003</td>\n",
       "    </tr>\n",
       "    <tr>\n",
       "      <th>1332</th>\n",
       "      <td>10.0</td>\n",
       "      <td>17-12-2010</td>\n",
       "      <td>2811646.85</td>\n",
       "      <td>0</td>\n",
       "      <td>59.15</td>\n",
       "      <td>3.125</td>\n",
       "      <td>126.879484</td>\n",
       "      <td>9.003</td>\n",
       "    </tr>\n",
       "    <tr>\n",
       "      <th>1333</th>\n",
       "      <td>10.0</td>\n",
       "      <td>24-12-2010</td>\n",
       "      <td>3749057.69</td>\n",
       "      <td>0</td>\n",
       "      <td>57.06</td>\n",
       "      <td>3.236</td>\n",
       "      <td>126.983581</td>\n",
       "      <td>9.003</td>\n",
       "    </tr>\n",
       "    <tr>\n",
       "      <th>1381</th>\n",
       "      <td>10.0</td>\n",
       "      <td>25-11-2011</td>\n",
       "      <td>2950198.64</td>\n",
       "      <td>1</td>\n",
       "      <td>60.68</td>\n",
       "      <td>3.760</td>\n",
       "      <td>129.836400</td>\n",
       "      <td>7.874</td>\n",
       "    </tr>\n",
       "    <tr>\n",
       "      <th>1385</th>\n",
       "      <td>10.0</td>\n",
       "      <td>23-12-2011</td>\n",
       "      <td>3487986.89</td>\n",
       "      <td>0</td>\n",
       "      <td>48.36</td>\n",
       "      <td>3.541</td>\n",
       "      <td>129.984548</td>\n",
       "      <td>7.874</td>\n",
       "    </tr>\n",
       "    <tr>\n",
       "      <th>1758</th>\n",
       "      <td>13.0</td>\n",
       "      <td>26-11-2010</td>\n",
       "      <td>2766400.05</td>\n",
       "      <td>1</td>\n",
       "      <td>28.22</td>\n",
       "      <td>2.830</td>\n",
       "      <td>126.669267</td>\n",
       "      <td>7.795</td>\n",
       "    </tr>\n",
       "    <tr>\n",
       "      <th>1761</th>\n",
       "      <td>13.0</td>\n",
       "      <td>17-12-2010</td>\n",
       "      <td>2771646.81</td>\n",
       "      <td>0</td>\n",
       "      <td>35.21</td>\n",
       "      <td>2.842</td>\n",
       "      <td>126.879484</td>\n",
       "      <td>7.795</td>\n",
       "    </tr>\n",
       "    <tr>\n",
       "      <th>1762</th>\n",
       "      <td>13.0</td>\n",
       "      <td>24-12-2010</td>\n",
       "      <td>3595903.20</td>\n",
       "      <td>0</td>\n",
       "      <td>34.90</td>\n",
       "      <td>2.846</td>\n",
       "      <td>126.983581</td>\n",
       "      <td>7.795</td>\n",
       "    </tr>\n",
       "    <tr>\n",
       "      <th>1810</th>\n",
       "      <td>13.0</td>\n",
       "      <td>25-11-2011</td>\n",
       "      <td>2864170.61</td>\n",
       "      <td>1</td>\n",
       "      <td>38.89</td>\n",
       "      <td>3.445</td>\n",
       "      <td>129.836400</td>\n",
       "      <td>6.392</td>\n",
       "    </tr>\n",
       "    <tr>\n",
       "      <th>1813</th>\n",
       "      <td>13.0</td>\n",
       "      <td>16-12-2011</td>\n",
       "      <td>2760346.71</td>\n",
       "      <td>0</td>\n",
       "      <td>27.85</td>\n",
       "      <td>3.282</td>\n",
       "      <td>129.898065</td>\n",
       "      <td>6.392</td>\n",
       "    </tr>\n",
       "    <tr>\n",
       "      <th>1814</th>\n",
       "      <td>13.0</td>\n",
       "      <td>23-12-2011</td>\n",
       "      <td>3556766.03</td>\n",
       "      <td>0</td>\n",
       "      <td>24.76</td>\n",
       "      <td>3.186</td>\n",
       "      <td>129.984548</td>\n",
       "      <td>6.392</td>\n",
       "    </tr>\n",
       "    <tr>\n",
       "      <th>1901</th>\n",
       "      <td>14.0</td>\n",
       "      <td>26-11-2010</td>\n",
       "      <td>2921709.71</td>\n",
       "      <td>1</td>\n",
       "      <td>46.15</td>\n",
       "      <td>3.039</td>\n",
       "      <td>182.783277</td>\n",
       "      <td>8.724</td>\n",
       "    </tr>\n",
       "    <tr>\n",
       "      <th>1904</th>\n",
       "      <td>14.0</td>\n",
       "      <td>17-12-2010</td>\n",
       "      <td>2762861.41</td>\n",
       "      <td>0</td>\n",
       "      <td>30.51</td>\n",
       "      <td>3.140</td>\n",
       "      <td>182.517732</td>\n",
       "      <td>8.724</td>\n",
       "    </tr>\n",
       "    <tr>\n",
       "      <th>1905</th>\n",
       "      <td>14.0</td>\n",
       "      <td>24-12-2010</td>\n",
       "      <td>3818686.45</td>\n",
       "      <td>0</td>\n",
       "      <td>30.59</td>\n",
       "      <td>3.141</td>\n",
       "      <td>182.544590</td>\n",
       "      <td>8.724</td>\n",
       "    </tr>\n",
       "    <tr>\n",
       "      <th>1957</th>\n",
       "      <td>14.0</td>\n",
       "      <td>23-12-2011</td>\n",
       "      <td>3369068.99</td>\n",
       "      <td>0</td>\n",
       "      <td>42.27</td>\n",
       "      <td>3.389</td>\n",
       "      <td>188.929975</td>\n",
       "      <td>8.523</td>\n",
       "    </tr>\n",
       "    <tr>\n",
       "      <th>2759</th>\n",
       "      <td>20.0</td>\n",
       "      <td>26-11-2010</td>\n",
       "      <td>2811634.04</td>\n",
       "      <td>1</td>\n",
       "      <td>46.66</td>\n",
       "      <td>3.039</td>\n",
       "      <td>204.962100</td>\n",
       "      <td>7.484</td>\n",
       "    </tr>\n",
       "    <tr>\n",
       "      <th>2761</th>\n",
       "      <td>20.0</td>\n",
       "      <td>10-12-2010</td>\n",
       "      <td>2752122.08</td>\n",
       "      <td>0</td>\n",
       "      <td>24.27</td>\n",
       "      <td>3.109</td>\n",
       "      <td>204.687738</td>\n",
       "      <td>7.484</td>\n",
       "    </tr>\n",
       "    <tr>\n",
       "      <th>2762</th>\n",
       "      <td>20.0</td>\n",
       "      <td>17-12-2010</td>\n",
       "      <td>2819193.17</td>\n",
       "      <td>0</td>\n",
       "      <td>24.07</td>\n",
       "      <td>3.140</td>\n",
       "      <td>204.632119</td>\n",
       "      <td>7.484</td>\n",
       "    </tr>\n",
       "    <tr>\n",
       "      <th>2763</th>\n",
       "      <td>20.0</td>\n",
       "      <td>24-12-2010</td>\n",
       "      <td>3766687.43</td>\n",
       "      <td>0</td>\n",
       "      <td>25.17</td>\n",
       "      <td>3.141</td>\n",
       "      <td>204.637673</td>\n",
       "      <td>7.484</td>\n",
       "    </tr>\n",
       "    <tr>\n",
       "      <th>2811</th>\n",
       "      <td>20.0</td>\n",
       "      <td>25-11-2011</td>\n",
       "      <td>2906233.25</td>\n",
       "      <td>1</td>\n",
       "      <td>46.38</td>\n",
       "      <td>3.492</td>\n",
       "      <td>211.412076</td>\n",
       "      <td>7.082</td>\n",
       "    </tr>\n",
       "    <tr>\n",
       "      <th>2814</th>\n",
       "      <td>20.0</td>\n",
       "      <td>16-12-2011</td>\n",
       "      <td>2762816.65</td>\n",
       "      <td>0</td>\n",
       "      <td>37.16</td>\n",
       "      <td>3.413</td>\n",
       "      <td>212.068504</td>\n",
       "      <td>7.082</td>\n",
       "    </tr>\n",
       "    <tr>\n",
       "      <th>2815</th>\n",
       "      <td>20.0</td>\n",
       "      <td>23-12-2011</td>\n",
       "      <td>3555371.03</td>\n",
       "      <td>0</td>\n",
       "      <td>40.19</td>\n",
       "      <td>3.389</td>\n",
       "      <td>212.236040</td>\n",
       "      <td>7.082</td>\n",
       "    </tr>\n",
       "    <tr>\n",
       "      <th>3192</th>\n",
       "      <td>23.0</td>\n",
       "      <td>24-12-2010</td>\n",
       "      <td>2734277.10</td>\n",
       "      <td>0</td>\n",
       "      <td>22.96</td>\n",
       "      <td>3.150</td>\n",
       "      <td>132.747742</td>\n",
       "      <td>5.287</td>\n",
       "    </tr>\n",
       "    <tr>\n",
       "      <th>3764</th>\n",
       "      <td>27.0</td>\n",
       "      <td>24-12-2010</td>\n",
       "      <td>3078162.08</td>\n",
       "      <td>0</td>\n",
       "      <td>31.34</td>\n",
       "      <td>3.309</td>\n",
       "      <td>136.597273</td>\n",
       "      <td>8.021</td>\n",
       "    </tr>\n",
       "    <tr>\n",
       "      <th>3816</th>\n",
       "      <td>27.0</td>\n",
       "      <td>23-12-2011</td>\n",
       "      <td>2739019.75</td>\n",
       "      <td>0</td>\n",
       "      <td>41.59</td>\n",
       "      <td>3.587</td>\n",
       "      <td>140.528765</td>\n",
       "      <td>7.906</td>\n",
       "    </tr>\n",
       "  </tbody>\n",
       "</table>\n",
       "</div>"
      ],
      "text/plain": [
       "     Store        Date  Weekly_Sales  Holiday_Flag  Temperature  Fuel_Price  \\\n",
       "189    2.0  24-12-2010    3436007.68             0        49.97       2.886   \n",
       "241    2.0  23-12-2011    3224369.80             0        46.66       3.112   \n",
       "471    4.0  26-11-2010    2789469.45             1        48.08       2.752   \n",
       "474    4.0  17-12-2010    2740057.14             0        46.57       2.884   \n",
       "475    4.0  24-12-2010    3526713.39             0        43.21       2.887   \n",
       "523    4.0  25-11-2011    3004702.33             1        47.96       3.225   \n",
       "526    4.0  16-12-2011    2771397.17             0        36.44       3.149   \n",
       "527    4.0  23-12-2011    3676388.98             0        35.92       3.103   \n",
       "761    6.0  24-12-2010    2727575.18             0        55.07       2.886   \n",
       "1329  10.0  26-11-2010    2939946.38             1        55.33       3.162   \n",
       "1332  10.0  17-12-2010    2811646.85             0        59.15       3.125   \n",
       "1333  10.0  24-12-2010    3749057.69             0        57.06       3.236   \n",
       "1381  10.0  25-11-2011    2950198.64             1        60.68       3.760   \n",
       "1385  10.0  23-12-2011    3487986.89             0        48.36       3.541   \n",
       "1758  13.0  26-11-2010    2766400.05             1        28.22       2.830   \n",
       "1761  13.0  17-12-2010    2771646.81             0        35.21       2.842   \n",
       "1762  13.0  24-12-2010    3595903.20             0        34.90       2.846   \n",
       "1810  13.0  25-11-2011    2864170.61             1        38.89       3.445   \n",
       "1813  13.0  16-12-2011    2760346.71             0        27.85       3.282   \n",
       "1814  13.0  23-12-2011    3556766.03             0        24.76       3.186   \n",
       "1901  14.0  26-11-2010    2921709.71             1        46.15       3.039   \n",
       "1904  14.0  17-12-2010    2762861.41             0        30.51       3.140   \n",
       "1905  14.0  24-12-2010    3818686.45             0        30.59       3.141   \n",
       "1957  14.0  23-12-2011    3369068.99             0        42.27       3.389   \n",
       "2759  20.0  26-11-2010    2811634.04             1        46.66       3.039   \n",
       "2761  20.0  10-12-2010    2752122.08             0        24.27       3.109   \n",
       "2762  20.0  17-12-2010    2819193.17             0        24.07       3.140   \n",
       "2763  20.0  24-12-2010    3766687.43             0        25.17       3.141   \n",
       "2811  20.0  25-11-2011    2906233.25             1        46.38       3.492   \n",
       "2814  20.0  16-12-2011    2762816.65             0        37.16       3.413   \n",
       "2815  20.0  23-12-2011    3555371.03             0        40.19       3.389   \n",
       "3192  23.0  24-12-2010    2734277.10             0        22.96       3.150   \n",
       "3764  27.0  24-12-2010    3078162.08             0        31.34       3.309   \n",
       "3816  27.0  23-12-2011    2739019.75             0        41.59       3.587   \n",
       "\n",
       "             CPI  Unemployment  \n",
       "189   211.064660         8.163  \n",
       "241   218.999550         7.441  \n",
       "471   126.669267         7.127  \n",
       "474   126.879484         7.127  \n",
       "475   126.983581         7.127  \n",
       "523   129.836400         5.143  \n",
       "526   129.898065         5.143  \n",
       "527   129.984548         5.143  \n",
       "761   212.916508         7.007  \n",
       "1329  126.669267         9.003  \n",
       "1332  126.879484         9.003  \n",
       "1333  126.983581         9.003  \n",
       "1381  129.836400         7.874  \n",
       "1385  129.984548         7.874  \n",
       "1758  126.669267         7.795  \n",
       "1761  126.879484         7.795  \n",
       "1762  126.983581         7.795  \n",
       "1810  129.836400         6.392  \n",
       "1813  129.898065         6.392  \n",
       "1814  129.984548         6.392  \n",
       "1901  182.783277         8.724  \n",
       "1904  182.517732         8.724  \n",
       "1905  182.544590         8.724  \n",
       "1957  188.929975         8.523  \n",
       "2759  204.962100         7.484  \n",
       "2761  204.687738         7.484  \n",
       "2762  204.632119         7.484  \n",
       "2763  204.637673         7.484  \n",
       "2811  211.412076         7.082  \n",
       "2814  212.068504         7.082  \n",
       "2815  212.236040         7.082  \n",
       "3192  132.747742         5.287  \n",
       "3764  136.597273         8.021  \n",
       "3816  140.528765         7.906  "
      ]
     },
     "execution_count": 103,
     "metadata": {},
     "output_type": "execute_result"
    }
   ],
   "source": [
    "df[df['Weekly_Sales'] > weekly_high_limit]"
   ]
  },
  {
   "cell_type": "code",
   "execution_count": 105,
   "metadata": {},
   "outputs": [
    {
     "data": {
      "text/plain": [
       "<Axes: >"
      ]
     },
     "execution_count": 105,
     "metadata": {},
     "output_type": "execute_result"
    },
    {
     "data": {
      "image/png": "[encoded data removed]",
      "text/plain": [
       "<Figure size 640x480 with 1 Axes>"
      ]
     },
     "metadata": {},
     "output_type": "display_data"
    }
   ],
   "source": [
    "df.drop(df[df['Weekly_Sales'] < weekly_low_limit].index, inplace = True)\n",
    "df.drop(df[df['Weekly_Sales'] > weekly_high_limit].index, inplace = True)\n",
    "df['Weekly_Sales'].hist()"
   ]
  },
  {
   "cell_type": "code",
   "execution_count": 110,
   "metadata": {},
   "outputs": [
    {
     "data": {
      "text/html": [
       "<div>\n",
       "<style scoped>\n",
       "    .dataframe tbody tr th:only-of-type {\n",
       "        vertical-align: middle;\n",
       "    }\n",
       "\n",
       "    .dataframe tbody tr th {\n",
       "        vertical-align: top;\n",
       "    }\n",
       "\n",
       "    .dataframe thead th {\n",
       "        text-align: right;\n",
       "    }\n",
       "</style>\n",
       "<table border=\"1\" class=\"dataframe\">\n",
       "  <thead>\n",
       "    <tr style=\"text-align: right;\">\n",
       "      <th></th>\n",
       "      <th>Store</th>\n",
       "      <th>Date</th>\n",
       "      <th>Weekly_Sales</th>\n",
       "      <th>Holiday_Flag</th>\n",
       "      <th>Temperature</th>\n",
       "      <th>Fuel_Price</th>\n",
       "      <th>CPI</th>\n",
       "      <th>Unemployment</th>\n",
       "    </tr>\n",
       "  </thead>\n",
       "  <tbody>\n",
       "    <tr>\n",
       "      <th>2495</th>\n",
       "      <td>18.0</td>\n",
       "      <td>29-04-2011</td>\n",
       "      <td>974114.39</td>\n",
       "      <td>0</td>\n",
       "      <td>58.82</td>\n",
       "      <td>3.988</td>\n",
       "      <td>134.435733</td>\n",
       "      <td>8.975</td>\n",
       "    </tr>\n",
       "    <tr>\n",
       "      <th>1804</th>\n",
       "      <td>13.0</td>\n",
       "      <td>14-10-2011</td>\n",
       "      <td>1929659.07</td>\n",
       "      <td>0</td>\n",
       "      <td>51.74</td>\n",
       "      <td>3.567</td>\n",
       "      <td>129.770645</td>\n",
       "      <td>6.392</td>\n",
       "    </tr>\n",
       "    <tr>\n",
       "      <th>4894</th>\n",
       "      <td>35.0</td>\n",
       "      <td>17-09-2010</td>\n",
       "      <td>831443.61</td>\n",
       "      <td>0</td>\n",
       "      <td>64.50</td>\n",
       "      <td>2.706</td>\n",
       "      <td>136.633807</td>\n",
       "      <td>8.861</td>\n",
       "    </tr>\n",
       "    <tr>\n",
       "      <th>5968</th>\n",
       "      <td>42.0</td>\n",
       "      <td>10-02-2012</td>\n",
       "      <td>674919.45</td>\n",
       "      <td>1</td>\n",
       "      <td>55.73</td>\n",
       "      <td>3.722</td>\n",
       "      <td>130.384903</td>\n",
       "      <td>7.545</td>\n",
       "    </tr>\n",
       "    <tr>\n",
       "      <th>4958</th>\n",
       "      <td>35.0</td>\n",
       "      <td>09-12-2011</td>\n",
       "      <td>948964.99</td>\n",
       "      <td>0</td>\n",
       "      <td>46.28</td>\n",
       "      <td>3.415</td>\n",
       "      <td>140.439786</td>\n",
       "      <td>8.745</td>\n",
       "    </tr>\n",
       "  </tbody>\n",
       "</table>\n",
       "</div>"
      ],
      "text/plain": [
       "     Store        Date  Weekly_Sales  Holiday_Flag  Temperature  Fuel_Price  \\\n",
       "2495  18.0  29-04-2011     974114.39             0        58.82       3.988   \n",
       "1804  13.0  14-10-2011    1929659.07             0        51.74       3.567   \n",
       "4894  35.0  17-09-2010     831443.61             0        64.50       2.706   \n",
       "5968  42.0  10-02-2012     674919.45             1        55.73       3.722   \n",
       "4958  35.0  09-12-2011     948964.99             0        46.28       3.415   \n",
       "\n",
       "             CPI  Unemployment  \n",
       "2495  134.435733         8.975  \n",
       "1804  129.770645         6.392  \n",
       "4894  136.633807         8.861  \n",
       "5968  130.384903         7.545  \n",
       "4958  140.439786         8.745  "
      ]
     },
     "execution_count": 110,
     "metadata": {},
     "output_type": "execute_result"
    }
   ],
   "source": [
    "#for sampling \n",
    "import numpy as np\n",
    "\n",
    "#sampling by number\n",
    "df.sample(n=5)"
   ]
  },
  {
   "cell_type": "code",
   "execution_count": 111,
   "metadata": {},
   "outputs": [
    {
     "data": {
      "text/html": [
       "<div>\n",
       "<style scoped>\n",
       "    .dataframe tbody tr th:only-of-type {\n",
       "        vertical-align: middle;\n",
       "    }\n",
       "\n",
       "    .dataframe tbody tr th {\n",
       "        vertical-align: top;\n",
       "    }\n",
       "\n",
       "    .dataframe thead th {\n",
       "        text-align: right;\n",
       "    }\n",
       "</style>\n",
       "<table border=\"1\" class=\"dataframe\">\n",
       "  <thead>\n",
       "    <tr style=\"text-align: right;\">\n",
       "      <th></th>\n",
       "      <th>Store</th>\n",
       "      <th>Date</th>\n",
       "      <th>Weekly_Sales</th>\n",
       "      <th>Holiday_Flag</th>\n",
       "      <th>Temperature</th>\n",
       "      <th>Fuel_Price</th>\n",
       "      <th>CPI</th>\n",
       "      <th>Unemployment</th>\n",
       "    </tr>\n",
       "  </thead>\n",
       "  <tbody>\n",
       "    <tr>\n",
       "      <th>3027</th>\n",
       "      <td>22.0</td>\n",
       "      <td>23-07-2010</td>\n",
       "      <td>974123.20</td>\n",
       "      <td>0</td>\n",
       "      <td>76.91</td>\n",
       "      <td>2.784</td>\n",
       "      <td>136.436692</td>\n",
       "      <td>8.433</td>\n",
       "    </tr>\n",
       "    <tr>\n",
       "      <th>2576</th>\n",
       "      <td>19.0</td>\n",
       "      <td>19-02-2010</td>\n",
       "      <td>1515976.11</td>\n",
       "      <td>0</td>\n",
       "      <td>28.57</td>\n",
       "      <td>2.909</td>\n",
       "      <td>131.637000</td>\n",
       "      <td>8.350</td>\n",
       "    </tr>\n",
       "    <tr>\n",
       "      <th>237</th>\n",
       "      <td>2.0</td>\n",
       "      <td>25-11-2011</td>\n",
       "      <td>2614202.30</td>\n",
       "      <td>1</td>\n",
       "      <td>56.36</td>\n",
       "      <td>3.236</td>\n",
       "      <td>218.113027</td>\n",
       "      <td>7.441</td>\n",
       "    </tr>\n",
       "    <tr>\n",
       "      <th>4041</th>\n",
       "      <td>29.0</td>\n",
       "      <td>22-10-2010</td>\n",
       "      <td>505221.17</td>\n",
       "      <td>0</td>\n",
       "      <td>50.24</td>\n",
       "      <td>2.919</td>\n",
       "      <td>132.817097</td>\n",
       "      <td>10.524</td>\n",
       "    </tr>\n",
       "    <tr>\n",
       "      <th>3354</th>\n",
       "      <td>24.0</td>\n",
       "      <td>06-05-2011</td>\n",
       "      <td>1339630.35</td>\n",
       "      <td>0</td>\n",
       "      <td>55.75</td>\n",
       "      <td>4.192</td>\n",
       "      <td>134.514367</td>\n",
       "      <td>8.212</td>\n",
       "    </tr>\n",
       "    <tr>\n",
       "      <th>842</th>\n",
       "      <td>6.0</td>\n",
       "      <td>13-07-2012</td>\n",
       "      <td>1588142.26</td>\n",
       "      <td>0</td>\n",
       "      <td>80.27</td>\n",
       "      <td>3.256</td>\n",
       "      <td>223.533282</td>\n",
       "      <td>5.668</td>\n",
       "    </tr>\n",
       "  </tbody>\n",
       "</table>\n",
       "</div>"
      ],
      "text/plain": [
       "     Store        Date  Weekly_Sales  Holiday_Flag  Temperature  Fuel_Price  \\\n",
       "3027  22.0  23-07-2010     974123.20             0        76.91       2.784   \n",
       "2576  19.0  19-02-2010    1515976.11             0        28.57       2.909   \n",
       "237    2.0  25-11-2011    2614202.30             1        56.36       3.236   \n",
       "4041  29.0  22-10-2010     505221.17             0        50.24       2.919   \n",
       "3354  24.0  06-05-2011    1339630.35             0        55.75       4.192   \n",
       "842    6.0  13-07-2012    1588142.26             0        80.27       3.256   \n",
       "\n",
       "             CPI  Unemployment  \n",
       "3027  136.436692         8.433  \n",
       "2576  131.637000         8.350  \n",
       "237   218.113027         7.441  \n",
       "4041  132.817097        10.524  \n",
       "3354  134.514367         8.212  \n",
       "842   223.533282         5.668  "
      ]
     },
     "execution_count": 111,
     "metadata": {},
     "output_type": "execute_result"
    }
   ],
   "source": [
    "#samplying by % \n",
    "df.sample(frac=0.001)"
   ]
  },
  {
   "cell_type": "code",
   "execution_count": 112,
   "metadata": {},
   "outputs": [
    {
     "name": "stdout",
     "output_type": "stream",
     "text": [
      "<class 'pandas.core.frame.DataFrame'>\n",
      "Index: 6401 entries, 0 to 6434\n",
      "Data columns (total 6 columns):\n",
      " #   Column        Non-Null Count  Dtype  \n",
      "---  ------        --------------  -----  \n",
      " 0   Weekly_Sales  6398 non-null   float64\n",
      " 1   Holiday_Flag  6401 non-null   int64  \n",
      " 2   Temperature   6399 non-null   float64\n",
      " 3   Fuel_Price    6400 non-null   float64\n",
      " 4   CPI           6399 non-null   float64\n",
      " 5   Unemployment  6400 non-null   float64\n",
      "dtypes: float64(5), int64(1)\n",
      "memory usage: 350.1 KB\n"
     ]
    }
   ],
   "source": [
    "#Dimension elimination\n",
    "df_sample1 = df[df.columns[2:]]\n",
    "df_sample1.info()"
   ]
  },
  {
   "cell_type": "code",
   "execution_count": 113,
   "metadata": {},
   "outputs": [
    {
     "name": "stdout",
     "output_type": "stream",
     "text": [
      "<class 'pandas.core.frame.DataFrame'>\n",
      "Index: 6401 entries, 0 to 6434\n",
      "Data columns (total 4 columns):\n",
      " #   Column        Non-Null Count  Dtype  \n",
      "---  ------        --------------  -----  \n",
      " 0   Store         6401 non-null   object \n",
      " 1   Weekly_Sales  6398 non-null   float64\n",
      " 2   Temperature   6399 non-null   float64\n",
      " 3   Fuel_Price    6400 non-null   float64\n",
      "dtypes: float64(3), object(1)\n",
      "memory usage: 250.0+ KB\n"
     ]
    }
   ],
   "source": [
    "needed_cols = ['Store', 'Weekly_Sales','Temperature', 'Fuel_Price']\n",
    "df_sample3 = df[needed_cols]\n",
    "df_sample3.info()"
   ]
  },
  {
   "cell_type": "code",
   "execution_count": 116,
   "metadata": {},
   "outputs": [
    {
     "data": {
      "text/plain": [
       "0       0.579189\n",
       "1       0.578489\n",
       "2       0.566374\n",
       "3       0.484672\n",
       "4       0.543282\n",
       "          ...   \n",
       "6430    0.203278\n",
       "6431    0.211471\n",
       "6432    0.211879\n",
       "6433    0.205278\n",
       "6434    0.222309\n",
       "Name: WeeklySales_MinMax, Length: 6401, dtype: float64"
      ]
     },
     "execution_count": 116,
     "metadata": {},
     "output_type": "execute_result"
    }
   ],
   "source": [
    "df['WeeklySales_MinMax'] = (df['Weekly_Sales'] - df['Weekly_Sales'].min())/ (df['Weekly_Sales'].max() - df['Weekly_Sales'].min())\n",
    "df['WeeklySales_MinMax']"
   ]
  },
  {
   "cell_type": "code",
   "execution_count": 117,
   "metadata": {},
   "outputs": [
    {
     "name": "stdout",
     "output_type": "stream",
     "text": [
      "<class 'pandas.core.frame.DataFrame'>\n",
      "Index: 6401 entries, 0 to 6434\n",
      "Data columns (total 10 columns):\n",
      " #   Column              Non-Null Count  Dtype  \n",
      "---  ------              --------------  -----  \n",
      " 0   Store               6401 non-null   object \n",
      " 1   Date                6399 non-null   object \n",
      " 2   Weekly_Sales        6398 non-null   float64\n",
      " 3   Holiday_Flag        6401 non-null   int64  \n",
      " 4   Temperature         6399 non-null   float64\n",
      " 5   Fuel_Price          6400 non-null   float64\n",
      " 6   CPI                 6399 non-null   float64\n",
      " 7   Unemployment        6400 non-null   float64\n",
      " 8   sales_MinMax        6398 non-null   float64\n",
      " 9   WeeklySales_MinMax  6398 non-null   float64\n",
      "dtypes: float64(7), int64(1), object(2)\n",
      "memory usage: 550.1+ KB\n"
     ]
    }
   ],
   "source": [
    "#1. General Overview of Data: \n",
    "df.info()"
   ]
  },
  {
   "cell_type": "code",
   "execution_count": 118,
   "metadata": {},
   "outputs": [
    {
     "data": {
      "text/plain": [
       "<bound method NDFrame.describe of      Store        Date  Weekly_Sales  Holiday_Flag  Temperature  Fuel_Price  \\\n",
       "0      1.0  05-02-2010    1643690.90             0        42.31       2.572   \n",
       "1      1.0  12-02-2010    1641957.44             1        38.51       2.548   \n",
       "2      1.0  19-02-2010    1611968.17             0        39.93       2.514   \n",
       "3      1.0  26-02-2010    1409727.59             0        46.63       2.561   \n",
       "4      1.0  05-03-2010    1554806.68             0        46.50       2.625   \n",
       "...    ...         ...           ...           ...          ...         ...   \n",
       "6430  45.0  28-09-2012     713173.95             0        64.88       3.997   \n",
       "6431  45.0  05-10-2012     733455.07             0        64.89       3.985   \n",
       "6432  45.0  12-10-2012     734464.36             0        54.47       4.000   \n",
       "6433  45.0  19-10-2012     718125.53             0        56.47       3.969   \n",
       "6434  45.0  26-10-2012     760281.43             0        58.85       3.882   \n",
       "\n",
       "             CPI  Unemployment  sales_MinMax  WeeklySales_MinMax  \n",
       "0     211.096358         8.106      0.579189            0.579189  \n",
       "1     211.242170         8.106      0.578489            0.578489  \n",
       "2     211.289143         8.106      0.566374            0.566374  \n",
       "3     211.319643         8.106      0.484672            0.484672  \n",
       "4     211.350143         8.106      0.543282            0.543282  \n",
       "...          ...           ...           ...                 ...  \n",
       "6430  192.013558         8.684      0.203278            0.203278  \n",
       "6431  192.170412         8.667      0.211471            0.211471  \n",
       "6432  192.327265         8.667      0.211879            0.211879  \n",
       "6433  192.330854         8.667      0.205278            0.205278  \n",
       "6434  192.308899         8.667      0.222309            0.222309  \n",
       "\n",
       "[6401 rows x 10 columns]>"
      ]
     },
     "execution_count": 118,
     "metadata": {},
     "output_type": "execute_result"
    }
   ],
   "source": [
    "df.describe"
   ]
  },
  {
   "cell_type": "code",
   "execution_count": 123,
   "metadata": {},
   "outputs": [
    {
     "name": "stdout",
     "output_type": "stream",
     "text": [
      "Column: Weekly_Sales\n",
      "\tMin: 209986.25\n",
      "\tMax: 3818686.45\n",
      "\tMedian: 960447.3200000001\n",
      "\tMode: 209986.25\n",
      "\tMidrange: 2014336.35\n"
     ]
    }
   ],
   "source": [
    "#Central Tendency Measures: \n",
    "df = pd.read_csv('Walmart_sales.csv')\n",
    "col = 'Weekly_Sales'\n",
    "\n",
    "min_val = df[col].min()\n",
    "max_val = df[col].max()\n",
    "median_val = df[col].median()\n",
    "mode_val = df[col].mode()[0]\n",
    "midrange_val = (max_val + min_val) / 2  # Midrange is (max + min) / 2\n",
    "\n",
    "print(f'Column: {col}')\n",
    "print(f'\\tMin: {min_val}')\n",
    "print(f'\\tMax: {max_val}')\n",
    "print(f'\\tMedian: {median_val}')\n",
    "print(f'\\tMode: {mode_val}')\n",
    "print(f'\\tMidrange: {midrange_val}')\n"
   ]
  },
  {
   "cell_type": "code",
   "execution_count": 127,
   "metadata": {},
   "outputs": [
    {
     "name": "stdout",
     "output_type": "stream",
     "text": [
      "col: Weekly_Sales \n",
      "\trange: 3608700.2 Q1: 552941.9099999999 Q2: 960447.3200000001 Q3: 1419398.6724999999 IQR: 866456.7625 var: 318575831546.2062 std: 564425.2222803355\n",
      "col: Unemployment \n",
      "\trange: 10.434000000000001 Q1: 6.891 Q2: 7.874 Q3: 8.622 IQR: 1.7309999999999999 var: 3.5194837317142085 std: 1.8760287129237143\n",
      "col: CPI \n",
      "\trange: 101.1688068 Q1: 131.735 Q2: 182.6165205 Q3: 212.746898 IQR: 81.01189799999997 var: 1548.9332979339335 std: 39.35648990870418\n",
      "col: Temperature \n",
      "\trange: 102.2 Q1: 47.43 Q2: 62.66 Q3: 74.93 IQR: 27.500000000000007 var: 340.251202648811 std: 18.44589934507968\n"
     ]
    }
   ],
   "source": [
    "def getDispersion(col):\n",
    "    range = df[col].max() - df[col].min()\n",
    "    quantiles = df[col].quantile([0.25, 0.5, 0.75])\n",
    "    IQR = quantiles[0.75] - quantiles[0.25]\n",
    "    var = df[col].var()\n",
    "    std = df[col].std()\n",
    "    print('col:',col, '\\n\\trange:', range, 'Q1:',quantiles[0.25], 'Q2:', quantiles[0.5], 'Q3:', quantiles[0.75], 'IQR:', IQR, 'var:', var, 'std:', std)\n",
    "numericalcols = ['Weekly_Sales', 'Unemployment', 'CPI', 'Temperature']\n",
    "\n",
    "for col in numericalcols:\n",
    "    getDispersion(col)"
   ]
  },
  {
   "cell_type": "code",
   "execution_count": 129,
   "metadata": {},
   "outputs": [
    {
     "data": {
      "text/html": [
       "<div>\n",
       "<style scoped>\n",
       "    .dataframe tbody tr th:only-of-type {\n",
       "        vertical-align: middle;\n",
       "    }\n",
       "\n",
       "    .dataframe tbody tr th {\n",
       "        vertical-align: top;\n",
       "    }\n",
       "\n",
       "    .dataframe thead th {\n",
       "        text-align: right;\n",
       "    }\n",
       "</style>\n",
       "<table border=\"1\" class=\"dataframe\">\n",
       "  <thead>\n",
       "    <tr style=\"text-align: right;\">\n",
       "      <th></th>\n",
       "      <th>Weekly_Sales</th>\n",
       "      <th>Unemployment</th>\n",
       "      <th>CPI</th>\n",
       "      <th>Temperature</th>\n",
       "    </tr>\n",
       "  </thead>\n",
       "  <tbody>\n",
       "    <tr>\n",
       "      <th>Weekly_Sales</th>\n",
       "      <td>1.000000</td>\n",
       "      <td>-0.106145</td>\n",
       "      <td>-0.073278</td>\n",
       "      <td>-0.064385</td>\n",
       "    </tr>\n",
       "    <tr>\n",
       "      <th>Unemployment</th>\n",
       "      <td>-0.106145</td>\n",
       "      <td>1.000000</td>\n",
       "      <td>-0.302044</td>\n",
       "      <td>0.101194</td>\n",
       "    </tr>\n",
       "    <tr>\n",
       "      <th>CPI</th>\n",
       "      <td>-0.073278</td>\n",
       "      <td>-0.302044</td>\n",
       "      <td>1.000000</td>\n",
       "      <td>0.176502</td>\n",
       "    </tr>\n",
       "    <tr>\n",
       "      <th>Temperature</th>\n",
       "      <td>-0.064385</td>\n",
       "      <td>0.101194</td>\n",
       "      <td>0.176502</td>\n",
       "      <td>1.000000</td>\n",
       "    </tr>\n",
       "  </tbody>\n",
       "</table>\n",
       "</div>"
      ],
      "text/plain": [
       "              Weekly_Sales  Unemployment       CPI  Temperature\n",
       "Weekly_Sales      1.000000     -0.106145 -0.073278    -0.064385\n",
       "Unemployment     -0.106145      1.000000 -0.302044     0.101194\n",
       "CPI              -0.073278     -0.302044  1.000000     0.176502\n",
       "Temperature      -0.064385      0.101194  0.176502     1.000000"
      ]
     },
     "execution_count": 129,
     "metadata": {},
     "output_type": "execute_result"
    }
   ],
   "source": [
    "#4. Correlation Analysis: \n",
    "df[numericalcols].corr()"
   ]
  }
 ],
 "metadata": {
  "kernelspec": {
   "display_name": "Python 3",
   "language": "python",
   "name": "python3"
  },
  "language_info": {
   "codemirror_mode": {
    "name": "ipython",
    "version": 3
   },
   "file_extension": ".py",
   "mimetype": "text/x-python",
   "name": "python",
   "nbconvert_exporter": "python",
   "pygments_lexer": "ipython3",
   "version": "3.13.0"
  }
 },
 "nbformat": 4,
 "nbformat_minor": 2
}
